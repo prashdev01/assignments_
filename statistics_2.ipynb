{
 "cells": [
  {
   "attachments": {},
   "cell_type": "markdown",
   "metadata": {},
   "source": [
    "# Q1. What is the Probability density function?"
   ]
  },
  {
   "attachments": {},
   "cell_type": "markdown",
   "metadata": {},
   "source": [
    "### A function that defines the the relationship between a random varible and its probabilty, such that you can find the probability of the variable using the function ,is called the probability density function.  "
   ]
  },
  {
   "attachments": {},
   "cell_type": "markdown",
   "metadata": {},
   "source": [
    "****"
   ]
  },
  {
   "attachments": {},
   "cell_type": "markdown",
   "metadata": {},
   "source": [
    "# Q2. What are the types of Probability distribution?"
   ]
  },
  {
   "attachments": {},
   "cell_type": "markdown",
   "metadata": {},
   "source": [
    "there are several types of Probability distribution, there are  as follows \n",
    "- probability density function \n",
    "- probability mass function"
   ]
  },
  {
   "attachments": {},
   "cell_type": "markdown",
   "metadata": {},
   "source": [
    "***"
   ]
  },
  {
   "attachments": {},
   "cell_type": "markdown",
   "metadata": {},
   "source": [
    "# Q3. Write a Python function to calculate the probability density function of a normal distribution with given mean and standard deviation at a given point."
   ]
  },
  {
   "cell_type": "code",
   "execution_count": 1,
   "metadata": {},
   "outputs": [],
   "source": [
    "import math\n",
    "\n",
    "def cal_norm_PDF(mean , std  , x):\n",
    "    coificaint = 1 /(std * math.sqrt(2*math.pi))\n",
    "    exponent = -((x-mean)**2)/(2*(std** 2))\n",
    "    pdf = coificaint * math.exp(exponent)\n",
    "    return pdf"
   ]
  },
  {
   "cell_type": "code",
   "execution_count": 2,
   "metadata": {},
   "outputs": [
    {
     "name": "stdout",
     "output_type": "stream",
     "text": [
      "The probability density function for the given mean and std is :0.12951759566589174\n"
     ]
    }
   ],
   "source": [
    "mean = 0\n",
    "std_dev = 1\n",
    "x = 1.5\n",
    "pdf = cal_norm_PDF(mean, std_dev, x)\n",
    "print(f'The probability density function for the given mean and std is :{pdf}')\n"
   ]
  },
  {
   "attachments": {},
   "cell_type": "markdown",
   "metadata": {},
   "source": [
    "***"
   ]
  },
  {
   "attachments": {},
   "cell_type": "markdown",
   "metadata": {},
   "source": [
    "# Q4. What are the properties of Binomial distribution? Give two examples of events where binomial distribution can be applied."
   ]
  },
  {
   "attachments": {},
   "cell_type": "markdown",
   "metadata": {},
   "source": [
    "## *one of the measure properties of binamial distribution is that the outcomes is only between in binary values ,like True and false , yes or no and so on.*\n",
    "- for example :\n",
    "    - if we have a coin with two sides, then it can either be heads or tails. \n",
    "    - Similarly suppose your conducting a servay on some people where there are eligible for voting or not, then outcome is  between yes or no this should be an example of binomial example .  "
   ]
  },
  {
   "attachments": {},
   "cell_type": "markdown",
   "metadata": {},
   "source": [
    "***"
   ]
  },
  {
   "attachments": {},
   "cell_type": "markdown",
   "metadata": {},
   "source": [
    "# Q5. Generate a random sample of size 1000 from a binomial distribution with probability of success 0.4 and plot a histogram of the results using matplotlib."
   ]
  },
  {
   "cell_type": "code",
   "execution_count": 3,
   "metadata": {},
   "outputs": [
    {
     "data": {
      "image/png": "[encoded data removed]",
      "text/plain": [
       "<Figure size 640x480 with 1 Axes>"
      ]
     },
     "metadata": {},
     "output_type": "display_data"
    }
   ],
   "source": [
    "import numpy as np\n",
    "import matplotlib.pyplot as plt\n",
    "\n",
    "sample_size = 1000\n",
    "prob_of_success = 0.4\n",
    "\n",
    "random_sample = np.random.binomial(1, prob_of_success, sample_size)\n",
    "\n",
    "plt.hist(random_sample, bins=2, edgecolor='black')\n",
    "plt.xlabel('Value')\n",
    "plt.ylabel('Frequency')\n",
    "plt.title('Histogram of Random Sample')\n",
    "plt.show()\n"
   ]
  },
  {
   "attachments": {},
   "cell_type": "markdown",
   "metadata": {},
   "source": [
    "***"
   ]
  },
  {
   "attachments": {},
   "cell_type": "markdown",
   "metadata": {},
   "source": [
    "\n",
    "\n",
    "# Q6. Write a Python function to calculate the cumulative distribution function of a Poisson distribution with given mean at a given point."
   ]
  },
  {
   "cell_type": "code",
   "execution_count": 5,
   "metadata": {},
   "outputs": [
    {
     "name": "stdout",
     "output_type": "stream",
     "text": [
      "CDF at 3 with mean 2.5 : 0.0820849986238988\n"
     ]
    }
   ],
   "source": [
    "import math \n",
    "def poission_cdf(mean , k):\n",
    "    cdf=0 \n",
    "    for i in range(k+1 ):\n",
    "        cdf+=(math.exp(-mean) * (mean ** i )) /math.factorial(i)\n",
    "        return cdf\n",
    "    \n",
    "    \n",
    "\n",
    "mean =2.5\n",
    "point =3 \n",
    "cdf = poission_cdf(mean,point)\n",
    "print(f'CDF at {point} with mean {mean} : {cdf}')"
   ]
  },
  {
   "attachments": {},
   "cell_type": "markdown",
   "metadata": {},
   "source": [
    "***"
   ]
  },
  {
   "attachments": {},
   "cell_type": "markdown",
   "metadata": {},
   "source": [
    "# Q7. How Binomial distribution different from Poisson distribution?"
   ]
  },
  {
   "attachments": {},
   "cell_type": "markdown",
   "metadata": {},
   "source": [
    "|    | Binomial Distribution | Poisson Distribution |\n",
    "|----|----------------------|---------------------|\n",
    "| Nature of Events | Used to model the number of successful outcomes in a fixed number of independent trials | Used to model the number of rare events occurring in a fixed interval of time or space |\n",
    "| Events in a Fixed Interval | Focuses on a fixed number of trials or events | Does not have a fixed number of trials; focuses on a fixed interval of time or space |\n",
    "| Assumptions | Assumes each trial is independent and has the same probability of success | Assumes events occur independently, at a constant average rate, and are rare |\n",
    "| Parameters | Characterized by two parameters: number of trials (n) and probability of success in each trial (p) | Characterized by a single parameter: average rate of events (λ) occurring in the fixed interval |\n",
    "| Shape of Distribution | Typically bell-shaped (symmetrical) when the number of trials is large | Skewed and right-skewed (asymmetrical) with a longer tail on the right side |\n",
    "\n",
    "\n",
    "\n"
   ]
  },
  {
   "attachments": {},
   "cell_type": "markdown",
   "metadata": {},
   "source": [
    "** *"
   ]
  },
  {
   "attachments": {},
   "cell_type": "markdown",
   "metadata": {},
   "source": [
    "\n",
    "\n",
    "# Q8. Generate a random sample of size 1000 from a Poisson distribution with mean 5 and calculate the\n",
    "# sample mean and variance."
   ]
  },
  {
   "cell_type": "code",
   "execution_count": 14,
   "metadata": {},
   "outputs": [
    {
     "name": "stdout",
     "output_type": "stream",
     "text": [
      "The mean of the random sample of size 1000 is 4.953\n",
      "The variance of the random sample of size 1000 is 5.060790999999999\n"
     ]
    }
   ],
   "source": [
    "import numpy as np \n",
    "\n",
    "\n",
    "\n",
    "sample_size = 1000\n",
    "mean = 5\n",
    "\n",
    "random_sample = np.random.poisson(mean,sample_size )\n",
    "# print(random_sample)\n",
    "print(f'The mean of the random sample of size {sample_size} is {random_sample.mean()}')\n",
    "print(f'The variance of the random sample of size {sample_size} is {random_sample.var()}')"
   ]
  },
  {
   "attachments": {},
   "cell_type": "markdown",
   "metadata": {},
   "source": [
    "*******"
   ]
  },
  {
   "attachments": {},
   "cell_type": "markdown",
   "metadata": {},
   "source": [
    "\n",
    "# Q9. How mean and variance are related in Binomial distribution and Poisson distribution?"
   ]
  },
  {
   "attachments": {},
   "cell_type": "markdown",
   "metadata": {},
   "source": [
    "In the Binomial Distribution:\n",
    "- Mean: Mean = n * p, where n is the number of trials and p is the probability of success in each trial.\n",
    "- Variance: Variance = n * p * (1 - p)\n",
    "\n",
    "In the Poisson Distribution:\n",
    "- Mean: Mean = λ, where λ is the average rate of events occurring in the fixed interval.\n",
    "- Variance: Variance = λ\n"
   ]
  },
  {
   "attachments": {},
   "cell_type": "markdown",
   "metadata": {},
   "source": [
    "***"
   ]
  },
  {
   "attachments": {},
   "cell_type": "markdown",
   "metadata": {},
   "source": [
    "\n",
    "# Q10. In normal distribution with respect to mean position, where does the least frequent data appear?"
   ]
  },
  {
   "attachments": {},
   "cell_type": "markdown",
   "metadata": {},
   "source": [
    ">### In a normal distribution, the least frequent data points appear in the tails of the distribution, far away from the mean. The normal distribution is a bell-shaped curve that is symmetric around the mean. The majority of the data points are concentrated near the mean, and as you move away from the mean towards the tails of the distribution, the number of data points gradually decreases.\n",
    "\n",
    ">### The tails of the normal distribution represent the extreme values, and these values occur with the least frequency. This is because the normal distribution follows the 68-95-99.7 rule, also known as the empirical rule or the 3-sigma rule. According to this rule, approximately 68% of the data falls within one standard deviation of the mean, 95% falls within two standard deviations, and 99.7% falls within three standard deviations.\n",
    "\n",
    ">###  Thus, the data points in the tails, which are located more than three standard deviations away from the mean, occur with the least frequency.\n"
   ]
  },
  {
   "attachments": {},
   "cell_type": "markdown",
   "metadata": {},
   "source": []
  }
 ],
 "metadata": {
  "kernelspec": {
   "display_name": "Python 3",
   "language": "python",
   "name": "python3"
  },
  "language_info": {
   "codemirror_mode": {
    "name": "ipython",
    "version": 3
   },
   "file_extension": ".py",
   "mimetype": "text/x-python",
   "name": "python",
   "nbconvert_exporter": "python",
   "pygments_lexer": "ipython3",
   "version": "3.11.3"
  },
  "orig_nbformat": 4
 },
 "nbformat": 4,
 "nbformat_minor": 2
}
