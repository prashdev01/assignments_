{
 "cells": [
  {
   "attachments": {},
   "cell_type": "markdown",
   "metadata": {},
   "source": [
    "# **Q1: What is Estimation Statistics? Explain point estimate and interval estimate.**"
   ]
  },
  {
   "attachments": {},
   "cell_type": "markdown",
   "metadata": {},
   "source": [
    "**Estimate** : it is an observed numerical value used to estimate an unknown population parameter \n",
    "\n",
    "* *POINT Estimate* : point estimate is single  numerical values that is used estimate the unknown population parameter, we can say that is the point estimate of the population parameter\n",
    "* *Interval Estimate* : it is a range of values that used to estimate the unknown population parameter its called as confidence interval"
   ]
  },
  {
   "attachments": {},
   "cell_type": "markdown",
   "metadata": {},
   "source": [
    "***"
   ]
  },
  {
   "attachments": {},
   "cell_type": "markdown",
   "metadata": {},
   "source": [
    "# **Q2. Write a Python function to estimate the population mean using a sample mean and standard deviation.**"
   ]
  },
  {
   "cell_type": "code",
   "execution_count": 1,
   "metadata": {},
   "outputs": [
    {
     "name": "stdout",
     "output_type": "stream",
     "text": [
      "The estimated population mean is: 10.282842712474618\n"
     ]
    }
   ],
   "source": [
    "import math\n",
    "\n",
    "def estimate_population_mean(sample_mean, sample_standard_deviation, sample_size):\n",
    "  estimated_population_mean = sample_mean + (\n",
    "      sample_standard_deviation * math.sqrt(2 / sample_size))\n",
    "  return estimated_population_mean\n",
    "\n",
    "\n",
    "if __name__ == \"__main__\":\n",
    "  sample_mean = 10\n",
    "  sample_standard_deviation = 2\n",
    "  sample_size = 100\n",
    "\n",
    "  estimated_population_mean = estimate_population_mean(\n",
    "      sample_mean, sample_standard_deviation, sample_size)\n",
    "\n",
    "  print(\"The estimated population mean is:\", estimated_population_mean)\n",
    "\n",
    "estimated_population_mean = sample_mean + (\n",
    "    sample_standard_deviation * math.sqrt(2 / sample_size))\n"
   ]
  },
  {
   "attachments": {},
   "cell_type": "markdown",
   "metadata": {},
   "source": [
    "***"
   ]
  },
  {
   "attachments": {},
   "cell_type": "markdown",
   "metadata": {},
   "source": [
    "\n",
    "# **Q3: What is Hypothesis testing? Why is it used? State the importance of Hypothesis testing.**"
   ]
  },
  {
   "attachments": {},
   "cell_type": "markdown",
   "metadata": {},
   "source": [
    "It is a method to method that allows us to test whether a certain hypothesis about the population is true. A hypothesis statement is about a population parameter .\n",
    "* Hypothesis is imporatant because it allows us to make inferences about population based on samples. this is usefull in a veriaty of settings. "
   ]
  },
  {
   "attachments": {},
   "cell_type": "markdown",
   "metadata": {},
   "source": [
    "***"
   ]
  },
  {
   "attachments": {},
   "cell_type": "markdown",
   "metadata": {},
   "source": [
    "# **Q4. Create a hypothesis that states whether the average weight of male college students is greater than the average weight of female college students.**"
   ]
  },
  {
   "attachments": {},
   "cell_type": "markdown",
   "metadata": {},
   "source": [
    "h0 = the avg weight of the make > the avg wieght of female \n",
    "* Null Hypothesis : The avarage weight of make college student is equal to tha avarage weight of feamale college studenta  "
   ]
  },
  {
   "attachments": {},
   "cell_type": "markdown",
   "metadata": {},
   "source": [
    "***"
   ]
  },
  {
   "attachments": {},
   "cell_type": "markdown",
   "metadata": {},
   "source": [
    "# **Q5. Write a Python script to conduct a hypothesis test on the difference between two population means, given a sample from each population.**"
   ]
  },
  {
   "cell_type": "code",
   "execution_count": 2,
   "metadata": {},
   "outputs": [
    {
     "name": "stdout",
     "output_type": "stream",
     "text": [
      "Test Results:\n",
      "T-Statistic: 4.6305\n",
      "P-Value: 0.0002\n",
      "Degrees of Freedom: 18\n",
      "Is significant at alpha = 0.05?: True\n",
      "Direction of difference: Greater\n"
     ]
    }
   ],
   "source": [
    "from scipy import stats\n",
    "import numpy as np\n",
    "\n",
    "def two_sample_t_test(sample1 ,sample2 ,alpha=0.05):\n",
    "    mean1 = np.mean(sample1)\n",
    "    mean2 = np.mean(sample2)\n",
    "    n1 = len(sample1)\n",
    "    n2 = len(sample2)\n",
    "    var1 =np.var(sample1, ddof=1) # ddof = 1 for unbised estimater\n",
    "    var2 =np.var(sample2, ddof=1) # ddof = 1 for unbised estimater\n",
    "     \n",
    "     #calculate the pooled standerd error \n",
    "    pooled_se = np.sqrt((var1/n1)+(var2/n2))\n",
    "     \n",
    "     # calculate the t stitistics\n",
    "    t_staistics =  (mean1-mean2)/ pooled_se\n",
    "    \n",
    "    # calculate the degree of freedom FOr the t distribution \n",
    "    df = n1 + n2 - 2\n",
    "    # calculate the critical value for the given alpha (two - tailed test )\n",
    "    critical_value = stats.t.ppf(1 - alpha /2, df)\n",
    "    \n",
    "    # calculate the p value of the t-statistics\n",
    "    p_value = 2 * (1- stats.t.cdf(abs(t_staistics),df))\n",
    "    \n",
    "    #  check if the test is significant \n",
    "    is_significant = abs(t_staistics)>critical_value\n",
    "    \n",
    "    # Determine the direction of the diffrence \n",
    "    direction =  'Greater' if mean1 > mean2 else 'less' if mean1 > mean2 else \"Equal\"\n",
    "    \n",
    "    # Create a dictionary to store the result \n",
    "    \n",
    "    result = {\n",
    "        't_statistic' : t_staistics ,\n",
    "        'p_value': p_value,\n",
    "        'alpha':alpha,\n",
    "        \"df\": df,\n",
    "        'is_significant': is_significant,\n",
    "        'direction':direction\n",
    "    }\n",
    "    return result\n",
    "# Example Usages:\n",
    "if __name__ == \"__main__\" :\n",
    "    sample_data1 = [10, 12, 15, 13, 17, 20, 14, 18, 19, 16]\n",
    "    sample_data2 = [7, 8, 9, 10, 11, 12, 10, 9, 11, 13]\n",
    "    \n",
    "    \n",
    "    test_result = two_sample_t_test(sample_data1, sample_data2)\n",
    "    \n",
    "    print(\"Test Results:\")\n",
    "    print(f\"T-Statistic: {test_result['t_statistic']:.4f}\")\n",
    "    print(f\"P-Value: {test_result['p_value']:.4f}\")\n",
    "    print(f\"Degrees of Freedom: {test_result['df']}\")\n",
    "    print(f\"Is significant at alpha = {test_result['alpha']}?: {test_result['is_significant']}\")\n",
    "    print(f\"Direction of difference: {test_result['direction']}\")"
   ]
  },
  {
   "attachments": {},
   "cell_type": "markdown",
   "metadata": {},
   "source": [
    "***"
   ]
  },
  {
   "attachments": {},
   "cell_type": "markdown",
   "metadata": {},
   "source": [
    "# **Q6: What is a null and alternative hypothesis? Give some examples.**"
   ]
  },
  {
   "attachments": {},
   "cell_type": "markdown",
   "metadata": {},
   "source": [
    "### **Null Hypothesis** : Is nothing but the assumption you are begging with\n",
    "### **alternate Hypothesis** : This will be the opposite of null hypothisis.\n",
    "- lets say we have a case of persone where , the persone has done some crime, in this case the person we can get our NULL Hypothesis , Alternnate Hypothis , there are as follows:\n",
    "#### *Null Hypothesis* : the persone is guilty \n",
    "####  *Alternate Hypothesis* : the persone is not guilty   "
   ]
  },
  {
   "attachments": {},
   "cell_type": "markdown",
   "metadata": {},
   "source": [
    "***"
   ]
  },
  {
   "attachments": {},
   "cell_type": "markdown",
   "metadata": {},
   "source": [
    "\n",
    "# **Q7: Write down the steps involved in hypothesis testing.**"
   ]
  },
  {
   "attachments": {},
   "cell_type": "markdown",
   "metadata": {},
   "source": [
    "1. State the hypotheses. The first step is to state the null hypothesis and the alternative hypothesis. The null hypothesis is the hypothesis that we believe to be true unless we have strong evidence to the contrary. The alternative hypothesis is the hypothesis that we believe to be true if the null hypothesis is false.\n",
    "\n",
    "\n",
    "2. Choose a significance level. The significance level is the probability of rejecting the null hypothesis when it is actually true. A common significance level is 0.05, which means that we are willing to accept a 5% risk of making a Type I error, which is rejecting the null hypothesis when it is actually true.\n",
    "3. Calculate the test statistic. The test statistic is a number that we use to compare the sample data to the null hypothesis. There are many different types of test statistics, and the appropriate one to use depends on the type of hypothesis test that we are conducting.\n",
    "4. Determine the p-value. The p-value is the probability of obtaining a test statistic as extreme as the one we observed if the null hypothesis were true. A low p-value means that the data is unlikely to have occurred if the null hypothesis were true, and therefore we have evidence to reject the null hypothesis.\n",
    "6. Make a decision. We make a decision about whether to reject the null hypothesis based on the p-value. If the p-value is less than the significance level, we reject the null hypothesis. If the p-value is greater than the significance level, we fail to reject the null hypothesis."
   ]
  },
  {
   "attachments": {},
   "cell_type": "markdown",
   "metadata": {},
   "source": [
    "***"
   ]
  },
  {
   "attachments": {},
   "cell_type": "markdown",
   "metadata": {},
   "source": [
    "# **Q8. Define p-value and explain its significance in hypothesis testing.**"
   ]
  },
  {
   "attachments": {},
   "cell_type": "markdown",
   "metadata": {},
   "source": [
    "* P-value is a statistical measure that indicates the probability of obtaining results at least as extreme as the ones observed in a sample, given that the null hypothesis is true.\n",
    "\n",
    "* In other words, the p-value is the probability of getting a result that is as or more extreme than the one we actually observed if the null hypothesis is true.\n",
    "* A low p-value means that the results are unlikely to have occurred if the null hypothesis is true. This suggests that the alternative hypothesis may be true.\n",
    "* A high p-value means that the results are more likely to have occurred if the null hypothesis is true. This suggests that the alternative hypothesis is not supported by the data.\n",
    "* In hypothesis testing, we typically set a threshold value for the p-value, called the significance level. If the p-value is less than the significance level, we reject the null hypothesis and conclude that the alternative hypothesis is supported by the data. If the p-value is greater than the significance level, we fail to reject the null hypothesis and conclude that the data is not sufficient to support the alternative hypothesis."
   ]
  },
  {
   "attachments": {},
   "cell_type": "markdown",
   "metadata": {},
   "source": [
    "***"
   ]
  },
  {
   "attachments": {},
   "cell_type": "markdown",
   "metadata": {},
   "source": [
    "# **Q9. Generate a Student's t-distribution plot using Python's matplotlib library, with the degrees of freedom parameter set to 10.**"
   ]
  },
  {
   "cell_type": "code",
   "execution_count": 3,
   "metadata": {},
   "outputs": [
    {
     "data": {
      "image/png": "[encoded data removed]",
      "text/plain": [
       "<Figure size 800x600 with 1 Axes>"
      ]
     },
     "metadata": {},
     "output_type": "display_data"
    }
   ],
   "source": [
    "import numpy as np \n",
    "import matplotlib.pyplot as plt\n",
    "from scipy import stats\n",
    "\n",
    "\n",
    "def plot_student_t_distribution(degree_of_freedom):\n",
    "    #  generate t_distribution data points\n",
    "    x = np.linspace(-5,5,1000)\n",
    "    y = stats.t.pdf(x, df = degree_of_freedom)\n",
    "    \n",
    "    #  create a plot \n",
    "    plt.figure(figsize=(8,6))\n",
    "    plt.plot(x,y,label=f't_distribution (df={degree_of_freedom})')\n",
    "    plt.title(f\"student's t_distribution (Drgrees of freedom = {degree_of_freedom})\")\n",
    "    plt.xlabel('x')\n",
    "    plt.xlabel('Probability Density')\n",
    "    plt.legend()\n",
    "    plt.grid(True)\n",
    "    plt.axhline(0, color='black', lw= 0.5)\n",
    "    plt.axvline(0, color='black', lw= 0.5)\n",
    "    plt.show()\n",
    "    \n",
    "\n",
    "# Example usages: \n",
    "if __name__=='__main__':\n",
    "    degree_of_freedom = 10 \n",
    "    plot_student_t_distribution(degree_of_freedom)\n",
    "    \n",
    " \n",
    "# Load the data set into a Pandas DataFrame object:\n"
   ]
  },
  {
   "attachments": {},
   "cell_type": "markdown",
   "metadata": {},
   "source": [
    "***"
   ]
  },
  {
   "attachments": {},
   "cell_type": "markdown",
   "metadata": {},
   "source": [
    "# **Q10. Write a Python program to calculate the two-sample t-test for independent samples, given two random samples of equal size and a null hypothesis that the population means are equal.**"
   ]
  },
  {
   "attachments": {},
   "cell_type": "markdown",
   "metadata": {},
   "source": []
  },
  {
   "cell_type": "code",
   "execution_count": 4,
   "metadata": {},
   "outputs": [
    {
     "name": "stdout",
     "output_type": "stream",
     "text": [
      "t-statistic: 0.6436\n",
      "p-value: 0.5378\n",
      "Failed to reject the null hypothesis \n"
     ]
    }
   ],
   "source": [
    "import numpy as np\n",
    "from scipy.stats import t \n",
    "\n",
    "\n",
    "def two_sample_t_test(sample1, sample2):\n",
    "    # calculate the sample mean and standard deviation \n",
    "    mean1 = np.mean(sample1)\n",
    "    mean2 = np.mean(sample2)\n",
    "    std_dev1 = np.std(sample1, ddof=1) # ddof=1  for sample standerd deviation \n",
    "    std_dev2 = np.std(sample2, ddof=1)\n",
    "    \n",
    "    # Calculate the pooled standerd deviation (assuming equal size )\n",
    "    pooled_std_dev = np.sqrt(((len(sample1) - 1) * std_dev1**2 + (len(sample2) - 1) * std_dev2**2) / (len(sample1) + len(sample2) - 2))\n",
    "    \n",
    "    # calculate the t-statistics\n",
    "    t_statistics = (mean1 -mean2) / (pooled_std_dev *np.sqrt (2 / len(sample1)))\n",
    "    \n",
    "    # Degree of freedom \n",
    "    degree_of_freedom = len(sample1) +len(sample2) -2\n",
    "    \n",
    "    # calculate the critical value (two tailed test with alpha 0.05 )\n",
    "    alpha = 0.05 \n",
    "    critical_value =  t.ppf(1-alpha / 2, degree_of_freedom )\n",
    "    \n",
    "    # calculate the p-value \n",
    "    p_value  = 2 * (1 - t.cdf(abs(t_statistics), degree_of_freedom)) \n",
    "    \n",
    "    # determind  if the null hypothesis is rejected or not \n",
    "    if abs(t_statistics)> critical_value:\n",
    "        result = \"Reject the null hypothesis \"\n",
    "    \n",
    "    else :\n",
    "        result = \"Failed to reject the null hypothesis \"\n",
    "        \n",
    "    return t_statistics , p_value ,result\n",
    "\n",
    "\n",
    "sample1 = [12, 15, 17, 21, 19]\n",
    "sample2 = [9, 13, 18, 20, 16]\n",
    "t_statistics, p_value , result = two_sample_t_test(sample1, sample2)\n",
    "\n",
    "\n",
    "print(f\"t-statistic: {t_statistics:.4f}\")\n",
    "print(f\"p-value: {p_value:.4f}\")\n",
    "print(result)\n",
    "    "
   ]
  },
  {
   "attachments": {},
   "cell_type": "markdown",
   "metadata": {},
   "source": [
    "***"
   ]
  },
  {
   "attachments": {},
   "cell_type": "markdown",
   "metadata": {},
   "source": [
    "# **Q11: What is Student’s t distribution? When to use the t-Distribution.**"
   ]
  },
  {
   "attachments": {},
   "cell_type": "markdown",
   "metadata": {},
   "source": [
    "\n",
    "\n",
    "## Student's t-distribution is a probability distribution that is used in statistics to estimate the population mean when the sample size is small or when the population standard deviation is unknown. It is similar to the standard normal distribution (Z-distribution), but it has heavier tails. This means that it is more likely to produce extreme values than the normal distribution.\n",
    "\n",
    "### The t-distribution is used in a variety of statistical tests, including:\n",
    "\n",
    "* One-sample t-tests: These tests are used to compare a sample mean to a known population mean.\n",
    "\n",
    "* Two-sample t-tests: These tests are used to compare the means of two independent samples.\n",
    "* Paired t-tests: These tests are used to compare the means of two dependent samples.\n",
    "* Confidence intervals: Confidence intervals can be used to estimate the population mean with a certain level of confidence."
   ]
  },
  {
   "attachments": {},
   "cell_type": "markdown",
   "metadata": {},
   "source": [
    "***"
   ]
  },
  {
   "attachments": {},
   "cell_type": "markdown",
   "metadata": {},
   "source": [
    "# **Q12: What is t-statistic? State the formula for t-statistic.**"
   ]
  },
  {
   "attachments": {},
   "cell_type": "markdown",
   "metadata": {},
   "source": [
    "\n",
    "### The t-statistic is a statistical measure of how far a sample mean is from the hypothesized population mean, in terms of standard error. It is used in hypothesis testing to determine whether to reject the null hypothesis. The larger the t-statistic, the more likely it is that the null hypothesis is false.\n",
    "\n",
    "### The formula for the t-statistic is as follows:\n",
    "\n",
    "```math \n",
    "t = (x̄ - μ) / (s / √n)\n",
    "\n",
    "```\n",
    "\n",
    "### where:\n",
    "\n",
    "* x̄ is the sample mean\n",
    "* μ is the hypothesized population mean\n",
    "* s is the sample standard deviation\n",
    "* n is the sample size"
   ]
  },
  {
   "attachments": {},
   "cell_type": "markdown",
   "metadata": {},
   "source": [
    "***"
   ]
  },
  {
   "attachments": {},
   "cell_type": "markdown",
   "metadata": {},
   "source": [
    "# **Q13. A coffee shop owner wants to estimate the average daily revenue for their shop. They take a random sample of 50 days and find the sample mean revenue to be $500 with a standard deviation of $50. Estimate the population mean revenue with a 95% confidence interval.**"
   ]
  },
  {
   "attachments": {},
   "cell_type": "markdown",
   "metadata": {},
   "source": []
  },
  {
   "cell_type": "code",
   "execution_count": 14,
   "metadata": {},
   "outputs": [
    {
     "name": "stdout",
     "output_type": "stream",
     "text": [
      "95% Confidence Interval for population mean revenue: $485.79 to $514.21\n"
     ]
    }
   ],
   "source": [
    "import numpy as np\n",
    "from scipy.stats import t\n",
    "\n",
    "def confidence_interval(sample_mean, sample_std_dev, sample_size, confidence_level):\n",
    "    # Calculate the standard error of the mean\n",
    "    standard_error = sample_std_dev / np.sqrt(sample_size)\n",
    "    \n",
    "    # Determine the critical value (t*) from the t-distribution\n",
    "    degrees_of_freedom = sample_size - 1\n",
    "    critical_value = t.ppf(1 - (1 - confidence_level) / 2, degrees_of_freedom)\n",
    "    \n",
    "    # Calculate the margin of error\n",
    "    margin_of_error = critical_value * standard_error\n",
    "    \n",
    "    # Calculate the confidence interval\n",
    "    lower_bound = sample_mean - margin_of_error\n",
    "    upper_bound = sample_mean + margin_of_error\n",
    "    \n",
    "    return lower_bound, upper_bound\n",
    "\n",
    "# Example usage:\n",
    "sample_mean = 500\n",
    "sample_std_dev = 50\n",
    "sample_size = 50\n",
    "confidence_level = 0.95\n",
    "\n",
    "lower_bound, upper_bound = confidence_interval(sample_mean, sample_std_dev, sample_size, confidence_level)\n",
    "\n",
    "print(f\"95% Confidence Interval for population mean revenue: ${lower_bound:.2f} to ${upper_bound:.2f}\")\n"
   ]
  },
  {
   "attachments": {},
   "cell_type": "markdown",
   "metadata": {},
   "source": [
    "***"
   ]
  },
  {
   "attachments": {},
   "cell_type": "markdown",
   "metadata": {},
   "source": [
    "# **Q14. A researcher hypothesizes that a new drug will decrease blood pressure by 10 mmHg. They conduct a clinical trial with 100 patients and find that the sample mean decrease in blood pressure is 8 mmHg with a standard deviation of 3 mmHg. Test the hypothesis with a significance level of 0.05.**"
   ]
  },
  {
   "attachments": {},
   "cell_type": "markdown",
   "metadata": {},
   "source": []
  },
  {
   "cell_type": "code",
   "execution_count": 15,
   "metadata": {},
   "outputs": [
    {
     "name": "stdout",
     "output_type": "stream",
     "text": [
      "t-statistic: -6.6667\n",
      "p-value: 0.0000\n",
      "Reject the null hypothesis\n"
     ]
    }
   ],
   "source": [
    "import numpy as np\n",
    "from scipy.stats import t\n",
    "\n",
    "def one_sample_t_test(sample_mean, population_mean, sample_std_dev, sample_size, significance_level):\n",
    "    # Calculate the standard error of the mean\n",
    "    standard_error = sample_std_dev / np.sqrt(sample_size)\n",
    "    \n",
    "    # Calculate the t-statistic\n",
    "    t_statistic = (sample_mean - population_mean) / standard_error\n",
    "    \n",
    "    # Degrees of freedom\n",
    "    degrees_of_freedom = sample_size - 1\n",
    "    \n",
    "    # Calculate the critical value (two-tailed test)\n",
    "    alpha = significance_level\n",
    "    critical_value = t.ppf(1 - alpha / 2, degrees_of_freedom)\n",
    "    \n",
    "    # Calculate the p-value\n",
    "    p_value = 2 * (1 - t.cdf(abs(t_statistic), degrees_of_freedom))\n",
    "    \n",
    "    # Determine if the null hypothesis is rejected or not\n",
    "    if p_value < alpha:\n",
    "        result = \"Reject the null hypothesis\"\n",
    "    else:\n",
    "        result = \"Fail to reject the null hypothesis\"\n",
    "    \n",
    "    return t_statistic, p_value, result\n",
    "\n",
    "# Example usage:\n",
    "sample_mean = 8\n",
    "population_mean = 10\n",
    "sample_std_dev = 3\n",
    "sample_size = 100\n",
    "significance_level = 0.05\n",
    "\n",
    "t_statistic, p_value, result = one_sample_t_test(sample_mean, population_mean, sample_std_dev, sample_size, significance_level)\n",
    "\n",
    "print(f\"t-statistic: {t_statistic:.4f}\")\n",
    "print(f\"p-value: {p_value:.4f}\")\n",
    "print(result)\n"
   ]
  },
  {
   "attachments": {},
   "cell_type": "markdown",
   "metadata": {},
   "source": [
    "***"
   ]
  },
  {
   "attachments": {},
   "cell_type": "markdown",
   "metadata": {},
   "source": [
    "# **Q15. An electronics company produces a certain type of product with a mean weight of 5 pounds and a standard deviation of 0.5 pounds. A random sample of 25 products is taken, and the sample mean weight is found to be 4.8 pounds. Test the hypothesis that the true mean weight of the products is less than 5 pounds with a significance level of 0.01.**"
   ]
  },
  {
   "cell_type": "code",
   "execution_count": 16,
   "metadata": {},
   "outputs": [
    {
     "name": "stdout",
     "output_type": "stream",
     "text": [
      "t-statistic: -2.0000\n",
      "p-value: 0.0285\n",
      "Fail to reject the null hypothesis\n"
     ]
    }
   ],
   "source": [
    "import numpy as np\n",
    "from scipy.stats import t\n",
    "\n",
    "def one_sample_t_test(sample_mean, population_mean, sample_std_dev, sample_size, significance_level):\n",
    "    # Calculate the standard error of the mean\n",
    "    standard_error = sample_std_dev / np.sqrt(sample_size)\n",
    "    \n",
    "    # Calculate the t-statistic\n",
    "    t_statistic = (sample_mean - population_mean) / standard_error\n",
    "    \n",
    "    # Degrees of freedom\n",
    "    degrees_of_freedom = sample_size - 1\n",
    "    \n",
    "    # Calculate the critical value (left-tailed test)\n",
    "    alpha = significance_level\n",
    "    critical_value = t.ppf(alpha, degrees_of_freedom)\n",
    "    \n",
    "    # Calculate the p-value\n",
    "    p_value = t.cdf(t_statistic, degrees_of_freedom)\n",
    "    \n",
    "    # Determine if the null hypothesis is rejected or not\n",
    "    if p_value < alpha:\n",
    "        result = \"Reject the null hypothesis\"\n",
    "    else:\n",
    "        result = \"Fail to reject the null hypothesis\"\n",
    "    \n",
    "    return t_statistic, p_value, result\n",
    "\n",
    "# Example usage:\n",
    "sample_mean = 4.8\n",
    "population_mean = 5\n",
    "sample_std_dev = 0.5\n",
    "sample_size = 25\n",
    "significance_level = 0.01\n",
    "\n",
    "t_statistic, p_value, result = one_sample_t_test(sample_mean, population_mean, sample_std_dev, sample_size, significance_level)\n",
    "\n",
    "print(f\"t-statistic: {t_statistic:.4f}\")\n",
    "print(f\"p-value: {p_value:.4f}\")\n",
    "print(result)\n"
   ]
  },
  {
   "attachments": {},
   "cell_type": "markdown",
   "metadata": {},
   "source": []
  },
  {
   "attachments": {},
   "cell_type": "markdown",
   "metadata": {},
   "source": [
    "***"
   ]
  },
  {
   "attachments": {},
   "cell_type": "markdown",
   "metadata": {},
   "source": [
    "# **Q16. Two groups of students are given different study materials to prepare for a test. The first group (n1 = 30) has a mean score of 80 with a standard deviation of 10, and the second group (n2 = 40) has a mean score of 75 with a standard deviation of 8. Test the hypothesis that the population means for the two groups are equal with a significance level of 0.01.**"
   ]
  },
  {
   "cell_type": "code",
   "execution_count": 17,
   "metadata": {},
   "outputs": [
    {
     "name": "stdout",
     "output_type": "stream",
     "text": [
      "t-statistic: 3.1836\n",
      "p-value: 0.0022\n",
      "Reject the null hypothesis\n"
     ]
    }
   ],
   "source": [
    "import numpy as np\n",
    "from scipy.stats import t\n",
    "\n",
    "def two_sample_t_test(sample_mean1, sample_std_dev1, sample_size1, sample_mean2, sample_std_dev2, sample_size2, significance_level):\n",
    "    # Calculate the standard error of the means\n",
    "    standard_error1 = sample_std_dev1 / np.sqrt(sample_size1)\n",
    "    standard_error2 = sample_std_dev2 / np.sqrt(sample_size2)\n",
    "    \n",
    "    # Calculate the pooled standard error\n",
    "    pooled_standard_error = np.sqrt((standard_error1**2 + standard_error2**2) / 2)\n",
    "    \n",
    "    # Calculate the t-statistic\n",
    "    t_statistic = (sample_mean1 - sample_mean2) / pooled_standard_error\n",
    "    \n",
    "    # Degrees of freedom\n",
    "    degrees_of_freedom = sample_size1 + sample_size2 - 2\n",
    "    \n",
    "    # Calculate the critical value (two-tailed test)\n",
    "    alpha = significance_level\n",
    "    critical_value = t.ppf(1 - alpha / 2, degrees_of_freedom)\n",
    "    \n",
    "    # Calculate the p-value\n",
    "    p_value = 2 * (1 - t.cdf(abs(t_statistic), degrees_of_freedom))\n",
    "    \n",
    "    # Determine if the null hypothesis is rejected or not\n",
    "    if p_value < alpha:\n",
    "        result = \"Reject the null hypothesis\"\n",
    "    else:\n",
    "        result = \"Fail to reject the null hypothesis\"\n",
    "    \n",
    "    return t_statistic, p_value, result\n",
    "\n",
    "# Example usage:\n",
    "sample_mean1 = 80\n",
    "sample_std_dev1 = 10\n",
    "sample_size1 = 30\n",
    "sample_mean2 = 75\n",
    "sample_std_dev2 = 8\n",
    "sample_size2 = 40\n",
    "significance_level = 0.01\n",
    "\n",
    "t_statistic, p_value, result = two_sample_t_test(sample_mean1, sample_std_dev1, sample_size1, sample_mean2, sample_std_dev2, sample_size2, significance_level)\n",
    "\n",
    "print(f\"t-statistic: {t_statistic:.4f}\")\n",
    "print(f\"p-value: {p_value:.4f}\")\n",
    "print(result)\n"
   ]
  },
  {
   "attachments": {},
   "cell_type": "markdown",
   "metadata": {},
   "source": []
  },
  {
   "attachments": {},
   "cell_type": "markdown",
   "metadata": {},
   "source": [
    "***"
   ]
  },
  {
   "attachments": {},
   "cell_type": "markdown",
   "metadata": {},
   "source": [
    "# **Q17. A marketing company wants to estimate the average number of ads watched by viewers during a TV program. They take a random sample of 50 viewers and find that the sample mean is 4 with a standard deviation of 1.5. Estimate the population mean with a 99% confidence interval.**"
   ]
  },
  {
   "cell_type": "code",
   "execution_count": 18,
   "metadata": {},
   "outputs": [
    {
     "name": "stdout",
     "output_type": "stream",
     "text": [
      "99% Confidence Interval for population mean number of ads watched: 3.43 to 4.57\n"
     ]
    }
   ],
   "source": [
    "import numpy as np\n",
    "from scipy.stats import t\n",
    "\n",
    "def confidence_interval(sample_mean, sample_std_dev, sample_size, confidence_level):\n",
    "    # Calculate the standard error of the mean\n",
    "    standard_error = sample_std_dev / np.sqrt(sample_size)\n",
    "    \n",
    "    # Determine the critical value (t*) from the t-distribution\n",
    "    degrees_of_freedom = sample_size - 1\n",
    "    critical_value = t.ppf(1 - (1 - confidence_level) / 2, degrees_of_freedom)\n",
    "    \n",
    "    # Calculate the margin of error\n",
    "    margin_of_error = critical_value * standard_error\n",
    "    \n",
    "    # Calculate the confidence interval\n",
    "    lower_bound = sample_mean - margin_of_error\n",
    "    upper_bound = sample_mean + margin_of_error\n",
    "    \n",
    "    return lower_bound, upper_bound\n",
    "\n",
    "# Example usage:\n",
    "sample_mean = 4\n",
    "sample_std_dev = 1.5\n",
    "sample_size = 50\n",
    "confidence_level = 0.99\n",
    "\n",
    "lower_bound, upper_bound = confidence_interval(sample_mean, sample_std_dev, sample_size, confidence_level)\n",
    "\n",
    "print(f\"99% Confidence Interval for population mean number of ads watched: {lower_bound:.2f} to {upper_bound:.2f}\")\n"
   ]
  },
  {
   "attachments": {},
   "cell_type": "markdown",
   "metadata": {},
   "source": [
    "***"
   ]
  }
 ],
 "metadata": {
  "kernelspec": {
   "display_name": "Python 3",
   "language": "python",
   "name": "python3"
  },
  "language_info": {
   "codemirror_mode": {
    "name": "ipython",
    "version": 3
   },
   "file_extension": ".py",
   "mimetype": "text/x-python",
   "name": "python",
   "nbconvert_exporter": "python",
   "pygments_lexer": "ipython3",
   "version": "3.11.3"
  },
  "orig_nbformat": 4
 },
 "nbformat": 4,
 "nbformat_minor": 2
}
