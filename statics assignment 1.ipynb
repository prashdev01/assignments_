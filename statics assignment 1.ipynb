{
 "cells": [
  {
   "attachments": {},
   "cell_type": "markdown",
   "id": "27a6f0f8-f4f1-4b53-b2cf-e6922081dd27",
   "metadata": {},
   "source": [
    "# Q1. What is Statistics?"
   ]
  },
  {
   "attachments": {},
   "cell_type": "markdown",
   "id": "a55d0040-5dbd-438d-974f-ca57791ca4ba",
   "metadata": {},
   "source": [
    "## statistics is a sceince of collecting , organizing , and anylizing data  "
   ]
  },
  {
   "attachments": {},
   "cell_type": "markdown",
   "id": "c21aa549-0d73-490f-b074-643a1f072e81",
   "metadata": {},
   "source": [
    "# Q2. Define the different types of statistics and give an example of when each type might be used."
   ]
  },
  {
   "attachments": {},
   "cell_type": "markdown",
   "id": "9a034530-5b35-46ec-9f73-b65364956475",
   "metadata": {},
   "source": [
    "# there are two types of statistics \n",
    "1. desciptive statistics \n",
    "2. infernational statistics\n",
    "\n",
    "## desciptive statistics :\n",
    "it consist of organizing and summerzing the data , \n",
    "measure of central tendancy [mean , meadian , mode] ,measure the desperation [vaeiance , std] ,diffrent type of distrubution of data eg,histogram , pdf, pmf\n",
    "\n",
    "## inferantional statistics :\n",
    "it consist of using data you have measured to form conclusion "
   ]
  },
  {
   "attachments": {},
   "cell_type": "markdown",
   "id": "cd5ef310-1a84-44b4-bff9-99a2f55c1c7c",
   "metadata": {},
   "source": [
    "# Q3. What are the different types of data and how do they differ from each other? Provide an example of each type of data"
   ]
  },
  {
   "attachments": {},
   "cell_type": "markdown",
   "id": "f62a6626-b4dc-41f6-abd5-b8555ff1f04a",
   "metadata": {},
   "source": [
    "there are mainly two types of data :\n",
    "# 1. quntative :\n",
    "this is genraly a numerical data , which consist two type \n",
    "## I.Discrete data :\n",
    "it cantains whole numbers \n",
    "eg : NO. of bank account of a person, NO. of childrens in family\n",
    "## II. continueous data :\n",
    "it consist floating point numbers\n",
    " eg: weight , height , speed , temp\n",
    "# 2. qualitive :\n",
    "this is an chategorial data which also consist two diffrenrt types \n",
    "## I.Nominal :\n",
    "no ranks should be applied to it \n",
    "eg : genders , blood group\n",
    "## II.ordinal :\n",
    "rank can be applied to it \n",
    "eg : costumer feedback\n"
   ]
  },
  {
   "attachments": {},
   "cell_type": "markdown",
   "id": "6b6e3a7a-0354-4ba3-acfc-8ca3a8ce1f3c",
   "metadata": {},
   "source": [
    "# Q4. Categorise the following datasets with respect to quantitative and qualitative data types:\n",
    "1. Grading in exam: A+, A, B+, B, C+, C, D, E\n",
    "2. Colour of mangoes: yellow, green, orange, red \n",
    "3. Height data of a class: [178.9, 179, 179.5, 176, 177.2, 178.3, 175.8,...]\n",
    "4. Number of mangoes exported by a farm: [500, 600, 478, 672, ...]"
   ]
  },
  {
   "attachments": {},
   "cell_type": "markdown",
   "id": "74c69c77-5665-49e3-90e2-b6d4a000e5f0",
   "metadata": {},
   "source": [
    "# qualitaives data :\n",
    "grading exam , colour of mangoes \n",
    "\n",
    "# quantitatives :\n",
    "heights of data of class , number of mangoes exported by a farm"
   ]
  },
  {
   "attachments": {},
   "cell_type": "markdown",
   "id": "43619198-9faf-45b2-9967-678f509c683f",
   "metadata": {},
   "source": [
    "# Q5. Explain the concept of levels of measurement and give an example of a variable for each level."
   ]
  },
  {
   "attachments": {},
   "cell_type": "markdown",
   "id": "ba6b5c82-7d66-4d79-91e2-0630c38b0891",
   "metadata": {},
   "source": [
    "# Nominal level : \n",
    "nominal level of measurement is the least informative level of measurement. Data at the nominal level can be categorized into mutually exclusive groups, but there is no order or ranking between the groups. For example, the variable \"gender\" is a nominal variable. The categories of gender are \"male\" and \"female,\" and there is no order or ranking between these categories.\n",
    "\n",
    "# ordinal level :\n",
    "The ordinal level of measurement is more informative than the nominal level. Data at the ordinal level can be categorized into mutually exclusive groups and the groups can be ranked in order. However, the intervals between the ranks are not equal. For example, the variable \"grade\" is an ordinal variable. The categories of grade are \"A,\" \"B,\" \"C,\" \"D,\" and \"F,\" and these categories can be ranked in order from highest to lowest. However, the difference between an \"A\" and a \"B\" is not necessarily the same as the difference between a \"B\" and a \"C.\"\n",
    "# interval level :\n",
    "The interval level of measurement is more informative than the ordinal level. Data at the interval level can be categorized into mutually exclusive groups, the groups can be ranked in order, and the intervals between the ranks are equal. However, the interval level of measurement does not have a true zero point. For example, the variable \"temperature\" is an interval variable. The categories of temperature are \"Fahrenheit\" and \"Celsius,\" and these categories can be ranked in order from lowest to highest. The intervals between the ranks are also equal. However, there is no true zero point for temperature.\n",
    "# ratio level :\n",
    "The ratio level of measurement is the most informative level of measurement. Data at the ratio level can be categorized into mutually exclusive groups, the groups can be ranked in order, the intervals between the ranks are equal, and there is a true zero point. For example, the variable \"weight\" is a ratio variable. The categories of weight are \"pounds\" and \"kilograms,\" and these categories can be ranked in order from lowest to highest. The intervals between the ranks are also equal. There is also a true zero point for weight."
   ]
  },
  {
   "attachments": {},
   "cell_type": "markdown",
   "id": "dc544244-90cf-459d-b450-1d1c9f03d2f6",
   "metadata": {},
   "source": [
    "# Q6. Why is it important to understand the level of measurement when analyzing data? Provide an example to illustrate your answer."
   ]
  },
  {
   "attachments": {},
   "cell_type": "markdown",
   "id": "bf230c84-22d7-428c-818f-e7d826ba9c4f",
   "metadata": {},
   "source": [
    "# The level of measurement is important to understand when analyzing data because it determines the type of statistical analysis that can be conducted. The four levels of measurement are nominal, ordinal, interval, and ratio. \n",
    "\n",
    "## Different statistical tests are appropriate for different levels of measurement. For example, a chi-squared test is appropriate for nominal level data, a t-test is appropriate for interval level data, and a one-way ANOVA is appropriate for ratio level data.\n",
    "\n",
    "## Here is an example of how the level of measurement can affect the type of statistical analysis that can be conducted. Let's say you are interested in the relationship between gender and political party affiliation. You collect data from a sample of 100 people, and you find that 50 are male and 50 are female. You also find that 60 of the people are Democrats, 20 are Republicans, and 20 are Independents.\n",
    "\n",
    "## You can use a chi-squared test to analyze this data because gender is a nominal variable and political party affiliation is an ordinal variable. The chi-squared test will tell you if there is a statistically significant relationship between gender and political party affiliation.\n",
    "\n",
    "## However, you cannot use a t-test or a one-way ANOVA to analyze this data because gender and political party affiliation are not interval or ratio variables. The t-test and the one-way ANOVA require interval or ratio level data, and nominal and ordinal level data do not have equal intervals or a true zero point.\n",
    "\n",
    "## The level of measurement is an important consideration when analyzing data. By understanding the level of measurement, you can choose the appropriate statistical tests to conduct and draw valid conclusions from your data."
   ]
  },
  {
   "attachments": {},
   "cell_type": "markdown",
   "id": "9cf97d3a-29d0-404e-bf40-e2a7cd475940",
   "metadata": {},
   "source": [
    "# Q7. How nominal data type is different from ordinal data type."
   ]
  },
  {
   "attachments": {},
   "cell_type": "markdown",
   "id": "6028a0b5-82b2-41f1-b58b-86053b425110",
   "metadata": {},
   "source": [
    "## The main difference between nominal and ordinal data is that nominal data does not have a natural order, while ordinal data does.\n",
    "\n",
    "## Nominal data is categorical data that can be grouped into categories, but there is no natural order to the categories. For example, the color of someone's hair is nominal data. The categories (blonde, brunette, redhead, etc.) can be grouped together, but there is no natural order to the categories.\n",
    "## Ordinal data is also categorical data, but the categories have a natural order. For example, a rating scale of 1 to 5 is ordinal data. The categories (1, 2, 3, 4, 5) have a natural order, with 1 being the lowest rating and 5 being the highest rating."
   ]
  },
  {
   "attachments": {},
   "cell_type": "markdown",
   "id": "3e050d9b-19ff-4b7f-85f2-ab9f84b91c00",
   "metadata": {},
   "source": [
    "# Q8. Which type of plot can be used to display data in terms of range?"
   ]
  },
  {
   "attachments": {},
   "cell_type": "markdown",
   "id": "3b126956-537c-42fd-9b31-42447257467c",
   "metadata": {},
   "source": [
    "## 1. Histogram: A histogram is a bar graph that shows the distribution of data into different ranges. The height of each bar represents the number of data points that fall within that range.\n",
    "## 2. Box plot: A box plot is a graph that shows the median, quartiles, and outliers of a data set. The median is the middle value of the data set, the quartiles are the middle two values, and the outliers are data points that fall outside of the interquartile range.\n",
    "## 3. Scatter plot: A scatter plot is a graph that shows the relationship between two variables. The data points are plotted on a coordinate plane, with the x-axis representing one variable and the y-axis representing the other variable"
   ]
  },
  {
   "attachments": {},
   "cell_type": "markdown",
   "id": "ebdf8754-f190-4f5d-baab-b1baedc7ade8",
   "metadata": {},
   "source": [
    "# Q9. Describe the difference between descriptive and inferential statistics. Give an example of each type of statistics and explain how they are used."
   ]
  },
  {
   "attachments": {},
   "cell_type": "markdown",
   "id": "d8413ac5-1f20-44a4-9d92-ac46c6a53e28",
   "metadata": {},
   "source": [
    "Descriptive statistic are used to summerize data and descibe the main feature , while infentional statistic are used to make  inference about the population based on sample\n",
    "## DESCRIPTIVE STATISTICS : are used to describe the data that you have collected , they can be used to summerize the data find pattern and find outliers , some common descriptive statistics include:\n",
    "1. mean : \n",
    "2. meadian\n",
    "3. mode\n",
    "4. range \n",
    "5. varians\n",
    "6. standerd devation\n",
    "## eg :  A researcher might used  descriptive statstic to summerize the result of a survey on student satisfaction with there university . the researcher might report the mean , neadian , mode  of the satisfaction ratings as well as the ramge of the stamderd deviation .\n",
    "## INFERANTIONAL STATISTICS :  are used to make inferance about a population based on sample this means that you can use small amount of data to make prediction about the large population. some common inferational statistics include :\n",
    "1. T-test \n",
    "2. ANOVA\n",
    "3. regreation\n",
    "4. chi-Squered test \n",
    "\n",
    "## eg : A marketing manager might use inferantional statistics to predict the sells of new product based on the data from the focused group . the manager might use a T-test to compare the mean sales of the new product to the mean sales of the similar products .   "
   ]
  },
  {
   "attachments": {},
   "cell_type": "markdown",
   "id": "3778d972",
   "metadata": {},
   "source": [
    "# Q10. What are some common measures of central tendency and variability used in statistics? Explain how each measure can be used to describe a dataset."
   ]
  },
  {
   "attachments": {},
   "cell_type": "markdown",
   "id": "bfaa677c",
   "metadata": {},
   "source": [
    "## measure central tendancy \n",
    "1. mean : the mean is a avarage of a set of data , it is calulated by adding up all the values in the data set and divide by the number values .\n",
    "2. meadian : the median is the middile value in the dataset when the data is sorted from the least to greatest.\n",
    "3. mode : the mode is the most frequent value in a dataset\n",
    "  "
   ]
  },
  {
   "attachments": {},
   "cell_type": "markdown",
   "id": "df533af7",
   "metadata": {},
   "source": []
  }
 ],
 "metadata": {
  "kernelspec": {
   "display_name": "Python 3 (ipykernel)",
   "language": "python",
   "name": "python3"
  },
  "language_info": {
   "codemirror_mode": {
    "name": "ipython",
    "version": 3
   },
   "file_extension": ".py",
   "mimetype": "text/x-python",
   "name": "python",
   "nbconvert_exporter": "python",
   "pygments_lexer": "ipython3",
   "version": "3.10.8"
  }
 },
 "nbformat": 4,
 "nbformat_minor": 5
}
