{
 "cells": [
  {
   "attachments": {},
   "cell_type": "markdown",
   "metadata": {},
   "source": [
    "# Q1. What are the three measures of central tendency?"
   ]
  },
  {
   "attachments": {},
   "cell_type": "markdown",
   "metadata": {},
   "source": [
    "there are three main centralies are presents, there are as follows:\n",
    "1. mean : this indicates the avarage of the dataset \n",
    "\n",
    "2. median : this is an number which occure in the middle of data set which oraganized in deecending to ascending order , this helps to find the centrak tendacy when the autliers is present\n",
    "\n",
    "4. mode : mode is noting but counting the frequency  of numbers in dataset "
   ]
  },
  {
   "attachments": {},
   "cell_type": "markdown",
   "metadata": {},
   "source": [
    "# Q2. What is the difference between the mean, median, and mode? How are they used to measure the central tendency of a dataset?"
   ]
  },
  {
   "attachments": {},
   "cell_type": "markdown",
   "metadata": {},
   "source": [
    "1. mean : mean is also known as the avarage , is calculated by summing up all the values , it is commanly represented by the symbol \"μ\" (mu) for a population mean and \"x̄\" (x-bar) for a sample mean. , the mean is sensative to extreme values or outliers in the data because it takes into account the magnitude of each value it provids the arthematic centre of data\n",
    "\n",
    "2. median : median is the middle value in the ordered dataset , to find the median the data point are arrangend in ascending or descending order, and the value in the middle possition is selected , if there is an even number of values rather than there magnitude , it provides a measure of central value that diveds the data into two equal halves.\n",
    "3. mode : the mode is the values that appears most frequentaly in the dataset. in other words is is the value with the highset frequency . A dataset can have no mode (if no value is repeated) , one mode (if the there is a value with the highest frequncy ), or multiple modes ( if multiple values shared the highest frequency .) the mode is use for identifying the most common or frequently  occuring values(s) in a dataset.  "
   ]
  },
  {
   "attachments": {},
   "cell_type": "markdown",
   "metadata": {},
   "source": [
    "# Q3. Measure the three measures of central tendency for the given height data:\n",
    "# [178,177,176,177,178.2,178,175,179,180,175,178.9,176.2,177,172.5,178,176.5]"
   ]
  },
  {
   "cell_type": "code",
   "execution_count": 10,
   "metadata": {},
   "outputs": [
    {
     "name": "stdout",
     "output_type": "stream",
     "text": [
      "the mean of the given data is  177.01875\n",
      "the median of the given data is  177.0\n",
      "the mode of the given data is  178\n"
     ]
    }
   ],
   "source": [
    "# Mean:\n",
    "# Calculate the sum of all the data points: 2808.3\n",
    "# Calculate the number of data points: 16\n",
    "# Mean = Sum of all data points / Number of data points = 2808.3 / 16 ≈ 175.52\n",
    "\n",
    "# Median:\n",
    "# Sort the data points in ascending order: [172.5, 175, 175, 176, 176.2, 176.5, 177, 177, 178, 178, 178, 178.2, 178.9, 179, 180]\n",
    "# Since there are 16 data points, the median is the average of the two middle values.\n",
    "# Median = (176 + 176.2) / 2 = 176.1\n",
    "\n",
    "# Mode:\n",
    "# The mode is the value(s) that occur(s) most frequently in the dataset.\n",
    "# In this case, there is no value that appears more than once, so the dataset has no mode.\n",
    "\n",
    "# Therefore, the measures of central tendency for the given height data are as follows:\n",
    "\n",
    "# Mean: Approximately 175.52\n",
    "# Median: Approximately 176.1\n",
    "# Mode: None (no mode)\n",
    "\n",
    "\n",
    "\n",
    "\n",
    "\n",
    "\n",
    "\n",
    "import numpy as np\n",
    "from  statistics import mode \n",
    "\n",
    "data = [178,177,176,177,178.2,178,175,179,180,175,178.9,176.2,177,172.5,178,176.5]\n",
    "print('the mean of the given data is ',np.mean(data))\n",
    "print('the median of the given data is ',np.median(data))\n",
    "print('the mode of the given data is ', mode(data))\n"
   ]
  },
  {
   "attachments": {},
   "cell_type": "markdown",
   "metadata": {},
   "source": [
    "# Q4. Find the standard deviation for the given data:\n",
    "# [178,177,176,177,178.2,178,175,179,180,175,178.9,176.2,177,172.5,178,176.5]"
   ]
  },
  {
   "cell_type": "code",
   "execution_count": 16,
   "metadata": {},
   "outputs": [
    {
     "name": "stdout",
     "output_type": "stream",
     "text": [
      "the standard devation for given data is 1.7885814036548633 \n"
     ]
    }
   ],
   "source": [
    "# Calculate the mean (average) of the data points.\n",
    "# Sum of all data points = 2729.3\n",
    "# Number of data points = 16\n",
    "# Mean = Sum of all data points / Number of data points = 2729.3 / 16 ≈ 170.58\n",
    "\n",
    "# Calculate the squared difference from the mean for each data point.\n",
    "# Squared differences: [7.3476, 29.6624, 121.7776, 29.6624, 50.6224, 7.3476, 34.3484, 73.6084, 107.9424, 34.3484, 60.9364, 113.9556, 29.6624, 407.7824, 7.3476, 34.6084]\n",
    "\n",
    "# Calculate the variance by finding the average of the squared differences.\n",
    "# Sum of squared differences = 1352.064\n",
    "# Variance = Sum of squared differences / Number of data points = 1352.064 / 16 ≈ 84.504\n",
    "\n",
    "# Take the square root of the variance to get the standard deviation.\n",
    "# Standard Deviation = √Variance = √84.504 ≈ 9.19\n",
    "\n",
    "# Therefore, the standard deviation for the given data is approximately 9.19\n",
    "import numpy as np \n",
    "\n",
    "data1 = [178,177,176,177,178.2,178,175,179,180,175,178.9,176.2,177,172.5,178,176.5]\n",
    "print(f'the standard devation for given data is {np.std(data1)} ')"
   ]
  },
  {
   "attachments": {},
   "cell_type": "markdown",
   "metadata": {},
   "source": [
    "# Q5. How are measures of dispersion such as range, variance, and standard deviation used to describe  the spread of a dataset? Provide an example."
   ]
  },
  {
   "attachments": {},
   "cell_type": "markdown",
   "metadata": {},
   "source": [
    "## measure of disperation such as , range, varians, and standerd deviation use used to describe the spread or veraiblity of a dataset  , they provide the information avout how the data points are despersed or spread out around the central tendancy measures (mean , median ,etc.. ) lets take a look at each measure and an example:\n",
    "\n",
    "## 1. Range : the range is simplest measure of desperasion and is calculated as the diffrence between the maximum and the minimum values in the dataset, it provides the measuse of the total spread of the data , however it only considers two data point doesnt take into account the distribution of the remainig values .\n",
    "### Example: Consider the following dataset representing the daily temperatures (in degrees Celsius) of a city for a week: [15, 17, 14, 19, 12, 16, 18]. The range can be calculated as follows: Range = Maximum value - Minimum value = 19 - 12 = 7 degrees Celsius. \n",
    "\n",
    "## 2. variance : variance measured the avarage  squared deviation from the mean, calculate how far each datapoint from the mean , squeres those diffrence and then takes the avarage , a higher varains indicates greater desperation or verability of in the data .\n",
    "### example :Calculate the mean: (15 + 17 + 14 + 19 + 12 + 16 + 18) / 7 = 15.7 \n",
    "### Calculate the squared difference from the mean for each value: (15-15.7)^2, (17-15.7)^2, (14-15.7)^2, (19-15.7)^2, (12-15.7)^2, (16-15.7)^2, (18-15.7)^2.\n",
    "### Sum up the squared differences: (0.49 + 1.69 + 2.89 + 10.89 + 12.25 + 0.09 + 4.41) = 32.71\n",
    "### Calculate the variance: 32.71 / 7 ≈ 4.68\n",
    "\n",
    "## 3. standerd deviation : The standerd deviation is the square root of the variance .it represent the avarage amount by which the data point deviate fron the mean , like veraince a higher standerd deviation indiacates greater desperation in the data \n",
    "\n",
    "### Example: Using the same dataset, we can calculate the standard deviation:\n",
    "\n",
    "Take the square root of the variance: √4.68 ≈ 2.16"
   ]
  },
  {
   "attachments": {},
   "cell_type": "markdown",
   "metadata": {},
   "source": [
    "# Q6. What is a Venn diagram?"
   ]
  },
  {
   "attachments": {},
   "cell_type": "markdown",
   "metadata": {},
   "source": [
    "a ven diagram is relationship between diffrent sets of items or concepts , it consisit of overlaping circles or ellipses , where each circle represents a set of category. the overlapping regions illustrate the element or atributes that are common to multiple sets.\n",
    "venn diagram are commanly used to depict logical relationships, especally in field of set theory and mathematics. they provide the way to visualize anylize and compare the similarities and diffrence between sets. the area withinf each circle that belongs exclusively to that set, while the overlapping section represents the element that are shared by the sets involved. \n",
    "\n",
    "venn diagram can also be used to illustrate complex concepts or data in various field such as statistics, probability such as computer science and even in everday solutions. they are perticularly useful for organizing and understanding data sets, identifying relationships and solving problems involving the union, intersection, and complement of sets.\n",
    "\n"
   ]
  },
  {
   "attachments": {},
   "cell_type": "markdown",
   "metadata": {},
   "source": [
    "\n",
    "# Q7. For the two given sets A = (2,3,4,5,6,7) & B = (0,2,6,8,10). Find:\n",
    "(i) A B\n",
    "(ii) A ⋃ B"
   ]
  },
  {
   "attachments": {},
   "cell_type": "markdown",
   "metadata": {},
   "source": [
    "1. A ∩ B represents the intersection of set of element that are common to both sets A and B\n",
    "\n",
    "2. A U b represents the union of sets A and B, which is the set of all elements that are in either set A or set B, or both \n",
    "\n",
    "#### now lets calculate the solutions for the given sets \n",
    "\n",
    "Set A = {2, 3, 4, 5, 6, 7}\n",
    "Set B = {0, 2, 6, 8, 10}\n",
    "\n",
    "#### A n B = {2, 6} \n",
    "#### A U B = {0,2,3,4,5,6,7,8,10}\n",
    "\n",
    "\n"
   ]
  },
  {
   "attachments": {},
   "cell_type": "markdown",
   "metadata": {},
   "source": [
    "\n",
    "# Q8. What do you understand about skewness in data?"
   ]
  },
  {
   "attachments": {},
   "cell_type": "markdown",
   "metadata": {},
   "source": [
    "skewness is a useful measure beacuase it provides insights into the shape of a distribution beyond just its central tendancy (mean or meadian ) . it helps identify the presence of outliers or extreme values that may effect data anylysis and modeling. additionaly, skewness is used in various statistical technique and modeling approaches to assess and adjust for departures from normality or to select appropriate data transformations. "
   ]
  },
  {
   "attachments": {},
   "cell_type": "markdown",
   "metadata": {},
   "source": [
    "\n",
    "# Q9. If a data is right skewed then what will be the position of median with respect to mean?"
   ]
  },
  {
   "attachments": {},
   "cell_type": "markdown",
   "metadata": {},
   "source": [
    "## if a dataset is right skewed, the position of the meadian with respect to the mean will be as follows:\n",
    "### in a right-skewed distribution :\n",
    "### the mean is pulled towords the tail on the right side, where the few extrene values are located.\n",
    "### the meadian, on the other hand, is less affected by the extreme values and represents the value that divides the dataset into two equal halves \n",
    "\n",
    "#### therefore, in a right skewed distribution, the meadian will typically  less than the mean . the mean is influmced by the tail on the right side, which cantains the extreme values, causing it to be larger. the meadian, being less sensitive to extreme values tends to represent the central tendancy of the dataset more accurately."
   ]
  },
  {
   "attachments": {},
   "cell_type": "markdown",
   "metadata": {},
   "source": [
    "# Q10. Explain the difference between covariance and correlation. How are these measures used in statistical analysis?"
   ]
  },
  {
   "attachments": {},
   "cell_type": "markdown",
   "metadata": {},
   "source": [
    "covariance and correlation are both measures used to assess the relationship between variables in statistical analysis, but they have distinict diffrences  in there interpretation and application \n",
    "# 1. Covariance:  covariance measures the extenct and direction of the linnear relationship between two variables. it indicate how changes in one varaible are related to changes in other variable . the formula for covariance is: \n",
    "cov(x,y) = Σ((X-μX)(y-μY))/(n-1)\n",
    "\n",
    "## where X and Y are variable, μX and μY are there respective means and n is the number of data points \n",
    "### the magnitude of the cavariance indiacate the the strength of the relationship:\n",
    "1. A possitive covarance suggested that the variable tends to move together , i.e when one variable increases, the other tends to increase as well.\n",
    "2. a negative covarance suggested an inverse relationship, where one variable increases while the other decreases.\n",
    "3. covariance equal to zero indicates no linner relationships between the variables .\n",
    "\n",
    "## However, covariance alone does not provide a standerdized measure of the relationship, making it challleging to compare the strength of relationship across diffrent dataset or variable with diffrent scale.\n",
    "\n",
    "# 2.Correlation: Correlation measures the strength and direction of the linear relationship between two variables, but it also provides a standardized measure that ranges between -1 and 1, which makes it easier to interpret and compare. The formula for correlation is derived from covariance:\n",
    "Correlation(X, Y) = Cov(X, Y) / (σX * σY)\n",
    "\n",
    "## where Cov(X, Y) is the covariance between X and Y, and σX and σY are the standard deviations of X and Y, respectively.\n",
    "\n",
    "### The correlation coefficient ranges from -1 to 1:\n",
    "\n",
    "1. A correlation coefficient of 1 indicates a perfect positive linear relationship.\n",
    "2. A correlation coefficient of -1 indicates a perfect negative linear relationship.\n",
    "3. A correlation coefficient of 0 indicates no linear relationship between the variables.\n",
    "## Correlation is often preferred over covariance because it provides a standardized measure that allows for easier interpretation and comparison. It is widely used in statistical analysis to examine relationships between variables, identify patterns, and make predictions. Correlation can help determine the strength and direction of associations, assess the reliability of models, and guide decision-making processes."
   ]
  },
  {
   "attachments": {},
   "cell_type": "markdown",
   "metadata": {},
   "source": [
    "# Q11. What is the formula for calculating the sample mean? Provide an example calculation for a dataset."
   ]
  },
  {
   "attachments": {},
   "cell_type": "markdown",
   "metadata": {},
   "source": [
    "## the formula for  calculating the sample mean, denoted as x̄ (pronounced \"x-bar\"), is the sum of the values in the dataset divided by the total number of values, here is the formula : \n",
    "\n",
    "x̄ = (x₁ + x₂ + x₃ + ... + xn) / n\n",
    "\n",
    "## where x₁, x₂, x₃, ..., xn are the individual values in the dataset, and n is the total number of values. \n",
    "## lets take an example dataset to demonstrate the calculation, consider the following dataset of 5 numbers :12, 8, 10, 15, 6.\n",
    "\n",
    "## to calculate the sample mean, we sum up all the values and divide by the total number of values :\n",
    "x̄ = (12 + 8 + 10 + 15 + 6) / 5\n",
    "= 51 / 5\n",
    "= 10.2\n",
    "## Therefore, the sample mean of the given dataset is 10.2."
   ]
  },
  {
   "attachments": {},
   "cell_type": "markdown",
   "metadata": {},
   "source": [
    "# Q12. For a normal distribution data what is the relationship between its measure of central tendency?"
   ]
  },
  {
   "attachments": {},
   "cell_type": "markdown",
   "metadata": {},
   "source": [
    "## for a normal distribution, the three common measures of central tendancy are the mean, median, and mode. in normal distribution  these three measures have the following relationship:\n",
    "1. mean: the mean is arithematic avarage of all the data points in the distribution, in a normal distribution, the mean is equal to the median  and mode , mathematically, mean = median = mode\n",
    "\n",
    "2. median: is the middle value of the dataset when it arranged in ascending or descending order. in a normal distribution, the median is equal to the mean and mode. mathematically, mean = median = mode. \n",
    "\n",
    "3. Mode: the mode represents the most frequently occuraing the values in the dataset , in normal dataset in a noraml distribution, the mode is equal to mean and median. mathematically, mode = medain = mean   "
   ]
  },
  {
   "attachments": {},
   "cell_type": "markdown",
   "metadata": {},
   "source": [
    "# Q13. How is covariance different from correlation?"
   ]
  },
  {
   "attachments": {},
   "cell_type": "markdown",
   "metadata": {},
   "source": [
    "## covariance measures the extent to which two varaible vary together. \n",
    "## correlation provides a standerdized measure of the strength and direction of the linnear relationahip between the variable.\n"
   ]
  },
  {
   "attachments": {},
   "cell_type": "markdown",
   "metadata": {},
   "source": [
    "# Q14. How do outliers affect measures of central tendency and dispersion? Provide an example."
   ]
  },
  {
   "attachments": {},
   "cell_type": "markdown",
   "metadata": {},
   "source": [
    "## Outliers can significantly affect measures of central tendency and dispersion in a dataset. Here's how they can impact these measures:\n",
    "\n",
    "### Measures of Central Tendency:\n",
    "1. Mean: Outliers can have a substantial impact on the mean because it considers all values in the dataset. A single extreme value can pull the mean towards it, leading to a distorted representation of the typical value. Therefore, outliers can significantly change the mean.\n",
    "\n",
    "2. Median: The median is less affected by outliers compared to the mean. Outliers have little to no effect on the median if they are distant from the rest of the data. The median represents the middle value of the dataset and is not influenced by extreme values.\n",
    "\n",
    "3. Mode: Outliers typically do not affect the mode as it represents the most frequently occurring value(s) in the dataset. Outliers have to occur with high frequency to impact the mode.\n",
    "\n",
    "### Measures of Dispersion:\n",
    "1. Range: Outliers can significantly affect the range, which is the difference between the maximum and minimum values in the dataset. If an outlier is extremely large or small, it can greatly increase the range.\n",
    "\n",
    "2. Interquartile Range (IQR): The IQR is less affected by outliers as it considers the range between the first quartile (25th percentile) and the third quartile (75th percentile). Outliers have a limited effect on the IQR if they are distant from the bulk of the data.\n",
    "\n",
    "3. Standard Deviation (SD) and Variance: Outliers can substantially influence the standard deviation and variance. Both measures rely on the differences between each data point and the mean. Outliers can significantly increase the spread of the data, leading to larger values for the standard deviation and variance.\n",
    "\n",
    "### Example:\n",
    "#### Consider a dataset of exam scores: 85, 92, 90, 88, 86, 94, 96, 99, 78, 82, 102.\n",
    "\n",
    "#### In this dataset, the outlier is the score of 102. Let's examine its impact on measures of central tendency and dispersion.\n",
    "\n",
    "## Without the outlier:\n",
    "- Mean: (85 + 92 + 90 + 88 + 86 + 94 + 96 + 99 + 78 + 82) / 10 = 90.2\n",
    "- Median: 88\n",
    "- Mode: No mode (no repeated values)\n",
    "- Range: 99 - 78 = 21\n",
    "- IQR: 90 - 82 = 8\n",
    "- Standard Deviation: Approximately 7.71\n",
    "\n",
    "## With the outlier:\n",
    "- Mean: (85 + 92 + 90 + 88 + 86 + 94 + 96 + 99 + 78 + 82 + 102) / 11 = 91\n",
    "- Median: 88\n",
    "- Mode: No mode (no repeated values)\n",
    "- Range: 102 - 78 = 24\n",
    "- IQR: 90 - 82 = 8\n",
    "- Standard Deviation: Approximately 9.49\n",
    "\n",
    "## In this example, the outlier (102) noticeably affected the mean and standard deviation, but had little impact on the median, mode, range, and IQR. The mean increased due to the outlier's larger value, and the standard deviation increased as well, indicating a greater spread of data."
   ]
  }
 ],
 "metadata": {
  "kernelspec": {
   "display_name": "Python 3",
   "language": "python",
   "name": "python3"
  },
  "language_info": {
   "codemirror_mode": {
    "name": "ipython",
    "version": 3
   },
   "file_extension": ".py",
   "mimetype": "text/x-python",
   "name": "python",
   "nbconvert_exporter": "python",
   "pygments_lexer": "ipython3",
   "version": "3.11.3"
  },
  "orig_nbformat": 4
 },
 "nbformat": 4,
 "nbformat_minor": 2
}
