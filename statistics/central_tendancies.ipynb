{
 "cells": [
  {
   "attachments": {},
   "cell_type": "markdown",
   "metadata": {},
   "source": [
    "# Q1. What are the three measures of central tendency?"
   ]
  },
  {
   "attachments": {},
   "cell_type": "markdown",
   "metadata": {},
   "source": [
    "there are three main centralies are presents, there are as follows:\n",
    "1. mean : this indicates the avarage of the dataset \n",
    "\n",
    "2. median : this is an number which occure in the middle of data set which oraganized in deecending to ascending order , this helps to find the centrak tendacy when the autliers is present\n",
    "\n",
    "4. mode : mode is noting but counting the frequency  of numbers in dataset "
   ]
  },
  {
   "attachments": {},
   "cell_type": "markdown",
   "metadata": {},
   "source": [
    "# Q2. What is the difference between the mean, median, and mode? How are they used to measure the central tendency of a dataset?"
   ]
  },
  {
   "attachments": {},
   "cell_type": "markdown",
   "metadata": {},
   "source": [
    "1. mean : mean is also known as the avarage , is calculated by summing up all the values , it is commanly represented by the symbol \"μ\" (mu) for a population mean and \"x̄\" (x-bar) for a sample mean. , the mean is sensative to extreme values or outliers in the data because it takes into account the magnitude of each value it provids the arthematic centre of data\n",
    "\n",
    "2. median : median is the middle value in the ordered dataset , to find the median the data point are arrangend in ascending or descending order, and the value in the middle possition is selected , if there is an even number of values rather than there magnitude , it provides a measure of central value that diveds the data into two equal halves.\n",
    "3. mode : the mode is the values that appears most frequentaly in the dataset. in other words is is the value with the highset frequency . A dataset can have no mode (if no value is repeated) , one mode (if the there is a value with the highest frequncy ), or multiple modes ( if multiple values shared the highest frequency .) the mode is use for identifying the most common or frequently  occuring values(s) in a dataset.  "
   ]
  },
  {
   "attachments": {},
   "cell_type": "markdown",
   "metadata": {},
   "source": [
    "# Q3. Measure the three measures of central tendency for the given height data:\n",
    "# [178,177,176,177,178.2,178,175,179,180,175,178.9,176.2,177,172.5,178,176.5]"
   ]
  },
  {
   "cell_type": "code",
   "execution_count": 10,
   "metadata": {},
   "outputs": [
    {
     "name": "stdout",
     "output_type": "stream",
     "text": [
      "the mean of the given data is  177.01875\n",
      "the median of the given data is  177.0\n",
      "the mode of the given data is  178\n"
     ]
    }
   ],
   "source": [
    "import numpy as np\n",
    "from  statistics import mode \n",
    "\n",
    "data = [178,177,176,177,178.2,178,175,179,180,175,178.9,176.2,177,172.5,178,176.5]\n",
    "print('the mean of the given data is ',np.mean(data))\n",
    "print('the median of the given data is ',np.median(data))\n",
    "print('the mode of the given data is ', mode(data))\n"
   ]
  },
  {
   "attachments": {},
   "cell_type": "markdown",
   "metadata": {},
   "source": [
    "# Q4. Find the standard deviation for the given data:\n",
    "# [178,177,176,177,178.2,178,175,179,180,175,178.9,176.2,177,172.5,178,176.5]"
   ]
  },
  {
   "cell_type": "code",
   "execution_count": 16,
   "metadata": {},
   "outputs": [
    {
     "name": "stdout",
     "output_type": "stream",
     "text": [
      "the standard devation for given data is 1.7885814036548633 \n"
     ]
    }
   ],
   "source": [
    "import numpy as np \n",
    "\n",
    "data1 = [178,177,176,177,178.2,178,175,179,180,175,178.9,176.2,177,172.5,178,176.5]\n",
    "print(f'the standard devation for given data is {np.std(data1)} ')"
   ]
  },
  {
   "attachments": {},
   "cell_type": "markdown",
   "metadata": {},
   "source": [
    "# Q5. How are measures of dispersion such as range, variance, and standard deviation used to describe  the spread of a dataset? Provide an example."
   ]
  },
  {
   "cell_type": "code",
   "execution_count": null,
   "metadata": {},
   "outputs": [],
   "source": [
    "\n",
    "\n",
    "# Q6. What is a Venn diagram?\n",
    "# Q7. For the two given sets A = (2,3,4,5,6,7) & B = (0,2,6,8,10). Find:\n",
    "# (i) A B\n",
    "# (ii) A ⋃ B\n",
    "# Q8. What do you understand about skewness in data?\n",
    "# Q9. If a data is right skewed then what will be the position of median with respect to mean?\n",
    "# Q10. Explain the difference between covariance and correlation. How are these measures used in\n",
    "# statistical analysis?\n",
    "# Q11. What is the formula for calculating the sample mean? Provide an example calculation for a\n",
    "# dataset.\n",
    "# Q12. For a normal distribution data what is the relationship between its measure of central tendency?\n",
    "# Q13. How is covariance different from correlation?\n",
    "# Q14. How do outliers affect measures of central tendency and dispersion? Provide an example."
   ]
  }
 ],
 "metadata": {
  "kernelspec": {
   "display_name": "Python 3",
   "language": "python",
   "name": "python3"
  },
  "language_info": {
   "codemirror_mode": {
    "name": "ipython",
    "version": 3
   },
   "file_extension": ".py",
   "mimetype": "text/x-python",
   "name": "python",
   "nbconvert_exporter": "python",
   "pygments_lexer": "ipython3",
   "version": "3.11.3"
  },
  "orig_nbformat": 4
 },
 "nbformat": 4,
 "nbformat_minor": 2
}
