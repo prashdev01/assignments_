{
 "cells": [
  {
   "attachments": {},
   "cell_type": "markdown",
   "metadata": {},
   "source": [
    "# **Q1: What are the Probability Mass Function (PMF) and Probability Density Function (PDF)? Explain with an example.**"
   ]
  },
  {
   "attachments": {},
   "cell_type": "markdown",
   "metadata": {},
   "source": [
    "The Probability Mass Function (PMF) and Probability Density Function (PDF) are two concepts used in probability theory and statistics to describe the probability distribution of a random variable.\n",
    "\n",
    "**1. Probability Mass Function (PMF):**\n",
    "- The Probability Mass Function (PMF) is used for discrete random variables.\n",
    "- It gives the probability of each possible outcome of a discrete random variable.\n",
    "- The PMF assigns a probability to each value of the random variable, allowing us to calculate the exact probability of observing a specific value.\n",
    "- The PMF is typically represented by a function that maps each possible value of the random variable to its corresponding probability.\n",
    "\n",
    "**Example:**\n",
    "Consider a fair six-sided die. The PMF of this die assigns a probability of 1/6 to each possible outcome (values 1, 2, 3, 4, 5, and 6) and assigns a probability of 0 to any other value outside this range. The PMF can be represented as:\n",
    "\n",
    "| Value | Probability |\n",
    "|-------|-------------|\n",
    "|   1   |   1/6       |\n",
    "|   2   |   1/6       |\n",
    "|   3   |   1/6       |\n",
    "|   4   |   1/6       |\n",
    "|   5   |   1/6       |\n",
    "|   6   |   1/6       |\n",
    "\n",
    "**2. Probability Density Function (PDF):**\n",
    "- The Probability Density Function (PDF) is used for continuous random variables.\n",
    "- It represents the density of the probability distribution over the range of possible values.\n",
    "- Unlike the PMF, the PDF does not give the exact probability of observing a specific value. Instead, it provides the relative likelihood of observing a value within a range.\n",
    "- The area under the PDF curve over a specific range represents the probability of observing a value within that range.\n",
    "\n",
    "**Example:**\n",
    "The PDF of a standard normal distribution (mean = 0, standard deviation = 1) is a bell-shaped curve. It describes the likelihood of observing different values of a continuous random variable. However, the PDF does not give the probability of a specific value. Instead, it provides the relative likelihood of observing values within different intervals along the x-axis.\n",
    "\n",
    "![Normal Distribution PDF](https://upload.wikimedia.org/wikipedia/commons/thumb/7/74/Normal_Distribution_PDF.svg/330px-Normal_Distribution_PDF.svg.png)\n",
    "\n",
    "In summary, the PMF is used for discrete random variables and gives the probability of each possible outcome, while the PDF is used for continuous random variables and represents the density of the probability distribution over a range of values.\n"
   ]
  },
  {
   "attachments": {},
   "cell_type": "markdown",
   "metadata": {},
   "source": [
    "***"
   ]
  },
  {
   "cell_type": "code",
   "execution_count": null,
   "metadata": {},
   "outputs": [],
   "source": [
    "\n",
    "\n",
    "# Explain how the parameters of the normal distribution relate to the shape of the distribution.\n",
    "# Q4: Explain the importance of Normal Distribution. Give a few real-life examples of Normal\n",
    "# Distribution.\n",
    "# Q5: What is Bernaulli Distribution? Give an Example. What is the difference between Bernoulli\n",
    "# Distribution and Binomial Distribution?\n",
    "# Q6. Consider a dataset with a mean of 50 and a standard deviation of 10. If we assume that the dataset\n",
    "# is normally distributed, what is the probability that a randomly selected observation will be greater\n",
    "# than 60? Use the appropriate formula and show your calculations.\n",
    "# Q7: Explain uniform Distribution with an example.\n",
    "# Q8: What is the z score? State the importance of the z score.\n",
    "# Q9: What is Central Limit Theorem? State the significance of the Central Limit Theorem.\n",
    "# Q10: State the assumptions of the Central Limit Theorem."
   ]
  },
  {
   "attachments": {},
   "cell_type": "markdown",
   "metadata": {},
   "source": [
    "># **Q2: What is Cumulative Density Function (CDF)? Explain with an example. Why CDF is used?**"
   ]
  },
  {
   "attachments": {},
   "cell_type": "markdown",
   "metadata": {},
   "source": [
    "# the cumulative Density Function(CDF) gives us the information about the probability that a random variable takes on a value less than or equal to given value .\n",
    "### the CDf is define as the integral or sum of the probability density function (PDF) or probability masss function (PMF) of a random varible up to certain value , it provides a way to understand the overall distribution of probabilities across diffrent values of the random variable  \n",
    "\n",
    "## Example\n",
    "\n",
    "- Consider a continuous random variable X following a standard normal distribution with a mean of 0 and a standard deviation of 1. The CDF of this distribution provides the probability that X takes on a value less than or equal to a given value.\n",
    "\n",
    "- For example, if we want to find the probability that X is less than or equal to 1, we can use the CDF. Using the standard normal distribution table or a statistical software, we find that the probability is approximately 0.8413. This means that around 84.13% of the data falls below 1 in a standard normal distribution.\n",
    "\n",
    "- In summary, the Cumulative Density Function (CDF) is a function that gives the probability that a random variable takes on a value less than or equal to a given value. It is used for probability calculation, percentile calculation, and distribution comparison, providing valuable insights into the probability distribution of a random variable."
   ]
  },
  {
   "attachments": {},
   "cell_type": "markdown",
   "metadata": {},
   "source": [
    "***"
   ]
  },
  {
   "attachments": {},
   "cell_type": "markdown",
   "metadata": {},
   "source": [
    "\n",
    "# **Q3: What are some examples of situations where the normal distribution might be used as a model?**"
   ]
  },
  {
   "attachments": {},
   "cell_type": "markdown",
   "metadata": {},
   "source": [
    "## The normal distribution, also known as the Gaussian distribution or bell curve, is widely used as a model in various fields due to its versatile properties and applicability to many real-world situations. Here are some examples of situations where the normal distribution might be used as a model:\n",
    "\n",
    "- Heights and Weights: The heights and weights of a large population tend to follow a normal distribution. This makes the normal distribution useful for modeling and understanding anthropometric measurements.\n",
    "\n",
    "- Test Scores: In educational settings, test scores often exhibit a normal distribution. This allows educators and researchers to analyze and compare performance using statistical techniques based on the normal distribution."
   ]
  },
  {
   "attachments": {},
   "cell_type": "markdown",
   "metadata": {},
   "source": []
  }
 ],
 "metadata": {
  "language_info": {
   "name": "python"
  },
  "orig_nbformat": 4
 },
 "nbformat": 4,
 "nbformat_minor": 2
}
